{
 "cells": [
  {
   "cell_type": "markdown",
   "metadata": {},
   "source": [
    "# Python\n",
    "\n",
    "[Centrale Lille, G3 SDIA | M1 DS, University of Lille]\n",
    "\n",
    "---\n",
    "\n",
    "## Lab 2 - some practice with Numpy, Scipy, Pandas, h5py and Matplotlib\n",
    "\n",
    "---"
   ]
  },
  {
   "cell_type": "markdown",
   "metadata": {},
   "source": [
    "## Guidelines (read carefully before starting)\n",
    "\n",
    "\n",
    "**Objectives**: acquire some practice with libraries commonly used in data science (`numpy`, `scipy`, `pandas`, `hdf5`, `matplotlib`).\n",
    "\n",
    "**Guidelines**: after retrieving the resources for the lab on moodle:\n",
    "- place the .zip archive in a local folder (Computer -> Documents/Python/);\n",
    "- unzip the archive .zip;\n",
    "- rename the folder with the convention tp2_Name1_Name2\n",
    "- duplicate the notebook file and rename it tp2_Name1_Name2.ipynb;\n",
    "- [**optional, possibly needed if working from Centrale's machines**]\n",
    "    - create a `lab2` conda environment from the provided `requirement.txt` file\n",
    "    ```bash\n",
    "    conda create --name=lab2 --file=requirement.txt --channel conda-forge\n",
    "    conda activate lab2\n",
    "    # do not forget to deactivate the environment if needed\n",
    "    # you can remove the environment once you are done\n",
    "    conda env remove --name=lab2\n",
    "    ```\n",
    "    - launch jupyter notebook (the python environment will be the one from the conda environment `lab2`)\n",
    "- at the end of the session, do not forget to transfer your work to your own network space if you are working on a machine from the school (do not leave your work on the C: drive).\n",
    "\n",
    "**Assessment** &#8594; global grade from F to A (A+)\n",
    "\n",
    "This lab session will be evaluated, based on your answer to the exercises reported in a Jupyter notebook (e.g., this one) and any additional `.py` file produced. Any code produced should be commented whenever appropriate, custom functions and objects documented and unit-tested (see session 1). Figure produced should be clearly annotated (axis, title, legend whenever appropriate).\n",
    "\n",
    "1. Numerical correctness\n",
    "2. Implementation clarity (documentation, relevance of the comments)\n",
    "3. Unit-tests developed whenever appropriate (correctness, relevance)\n",
    "4. Answers to the questions and overall presentation of the Jupyter notebook.\n",
    "\n",
    "**Useful references for this lab**:\n",
    "\n",
    "[1] `numpy`: [lecture notes (1.4.1-1.4.2)](https://scipy-lectures.org/intro/numpy/index.html) and [documentation](https://numpy.org/doc/stable/)\n",
    "\n",
    "[2] `pandas`: [documentation](https://pandas.pydata.org/docs/getting_started/index.html), [quick tutorial](https://pandas.pydata.org/pandas-docs/version/0.15/10min.html)\n",
    "\n",
    "[3] `matplotlib`: [lecture notes (1.5)](https://scipy-lectures.org/intro/matplotlib/index.html) and [documentation](https://matplotlib.org/)\n",
    "\n",
    "[4] `h5py`: [quick start guide](http://docs.h5py.org/en/stable/quick.html#quick)\n",
    "\n",
    "\n",
    "## <a name=\"content\">Contents</a>\n",
    "- [Exercise 1: Computing basic statistics](#ex1)\n",
    "- [Exercise 2: Random variables and histograms](#ex2)\n",
    "- [Exercise 3: Discrete isotropic total variation](#ex3)\n",
    "---"
   ]
  },
  {
   "cell_type": "code",
   "execution_count": 21,
   "metadata": {},
   "outputs": [
    {
     "name": "stderr",
     "output_type": "stream",
     "text": [
      "A subdirectory or file img already exists.\n"
     ]
    }
   ],
   "source": [
    "%load_ext autoreload\n",
    "%autoreload 2\n",
    "!mkdir img"
   ]
  },
  {
   "cell_type": "markdown",
   "metadata": {},
   "source": [
    "---\n",
    "## <a name=\"ex1\">Exercise 1: Random variables and histograms</a> [(&#8593;)](#content)\n",
    "\n",
    "In this exercise, we are interested in generating samples from the Gamma distribution $\\mathcal{G}(\\alpha,\\beta)$, of probability density function (pdf)\n",
    "\n",
    "\\begin{equation}\n",
    "    p(x) = \\frac{\\beta^\\alpha}{\\Gamma(\\alpha)} x^{\\alpha-1} \\exp(-\\beta x) \\mathbb{1}_{\\mathbb{R}_+^*}(x),\n",
    "\\end{equation}\n",
    "\n",
    "and displaying their histogram. In the following, we consider $(\\alpha, \\beta) = (9, 2)$.\n",
    "\n",
    "1\\. Set the random seed to a fixed value for reproducibility, and biefly check your instruction works as intended.\n",
    "> Hint: you may take a look at the following pages: [random module](https://numpy.org/doc/stable/reference/random/index.html?highlight=random#module-numpy.random), [random generator](https://numpy.org/doc/stable/reference/random/generator.html)."
   ]
  },
  {
   "cell_type": "markdown",
   "metadata": {},
   "source": [
    "Your answers(s)"
   ]
  },
  {
   "cell_type": "code",
   "execution_count": 22,
   "metadata": {},
   "outputs": [],
   "source": [
    "import numpy as np\n",
    "import matplotlib.pyplot as plt\n",
    "import h5py\n",
    "from scipy.stats import gamma\n",
    "import unittest"
   ]
  },
  {
   "cell_type": "code",
   "execution_count": 23,
   "metadata": {},
   "outputs": [],
   "source": [
    "# generate numpy array with random values. Seed parameter for reproducibility\n",
    "array = np.random.default_rng(seed=12)  \n",
    "\n",
    "# set alpha and beta parameters for the distribution\n",
    "alpha = 9\n",
    "beta = 2\n",
    "\n",
    "# adjust numpy array to the gamma distribution\n",
    "samples = array.gamma(alpha, scale=1/beta, size=1000)"
   ]
  },
  {
   "cell_type": "code",
   "execution_count": 24,
   "metadata": {},
   "outputs": [
    {
     "data": {
      "image/png": "[encoded data removed]",
      "text/plain": [
       "<Figure size 640x480 with 1 Axes>"
      ]
     },
     "metadata": {},
     "output_type": "display_data"
    }
   ],
   "source": [
    "# plot density with pyplot\n",
    "\n",
    "plt.hist(samples, alpha=0.5,density=True, color='b', label='Histogram')\n",
    "plt.xlabel('Sample Values')\n",
    "plt.ylabel('Frequency')\n",
    "plt.title('Histogram of Gamma Distribution Samples')\n",
    "plt.legend()\n",
    "plt.grid(True)\n",
    "plt.show()"
   ]
  },
  {
   "cell_type": "markdown",
   "metadata": {},
   "source": []
  },
  {
   "cell_type": "markdown",
   "metadata": {},
   "source": [
    "2\\. Generate $\\approx 10^5$ samples in a vector. Save the vector in a file, `samples.hdf5` or `samples.npy`.\n",
    "> Warning / hint: \n",
    "> - take a careful look at the [documentation](https://numpy.org/doc/stable/reference/random/generated/numpy.random.gamma.html?highlight=gamma#numpy.random.gamma) (multiple conventions exist for the definition of the pdf underlying the distribution...);\n",
    "> - to save data in a `npy` file, take a look at the example reported in the [Numpy documentation](https://numpy.org/doc/stable/reference/generated/numpy.save.html);\n",
    "> - to save data in a `.h5` file, take a quick look at the [documentation here](https://docs.h5py.org/en/stable/quick.html#quick)."
   ]
  },
  {
   "cell_type": "markdown",
   "metadata": {},
   "source": [
    "Your answers(s)"
   ]
  },
  {
   "cell_type": "code",
   "execution_count": 25,
   "metadata": {},
   "outputs": [],
   "source": [
    "# generate approximately 10^5 samples\n",
    "num_samples = int(1e5)\n",
    "samples = array.gamma(alpha, scale=1/beta, size=num_samples)\n",
    "\n",
    "# option 1: Save to an .npy file\n",
    "np.save(\"samples.npy\", samples)\n",
    "\n",
    "# option 2: Save to an .hdf5 file\n",
    "with h5py.File(\"samples.hdf5\", \"w\") as hf:\n",
    "    hf.create_dataset(\"samples\", data=samples)"
   ]
  },
  {
   "cell_type": "markdown",
   "metadata": {},
   "source": [
    "3\\. Estimate an histogram of this distribution for a well chosen set of bins, and display it.\n",
    "> Warnings: \n",
    "> - make sure the [histogram](https://matplotlib.org/api/_as_gen/matplotlib.pyplot.hist.html?highlight=hist#matplotlib.pyplot.hist) corresponds to a probability density function (pdf);\n",
    "> - do not forget to include a proper title with names for the axes."
   ]
  },
  {
   "cell_type": "markdown",
   "metadata": {},
   "source": [
    "Your answers(s)"
   ]
  },
  {
   "cell_type": "code",
   "execution_count": 26,
   "metadata": {},
   "outputs": [
    {
     "data": {
      "image/png": "[encoded data removed]",
      "text/plain": [
       "<Figure size 640x480 with 1 Axes>"
      ]
     },
     "metadata": {},
     "output_type": "display_data"
    }
   ],
   "source": [
    "# load the previously generated samples from the .npy\n",
    "samples = np.load(\"samples.npy\")\n",
    "\n",
    "# create the histogram values and bins using numpy\n",
    "hist, bins= np.histogram(samples, bins=30, density=True)\n",
    "\n",
    "# get the pdf for the Gamma distribution with the same parameters as the generated samples\n",
    "alpha = 9\n",
    "beta = 2\n",
    "x = np.linspace(0, np.max(bins), 1000)  # Generate a range of x values\n",
    "pdf_values = gamma.pdf(x, a=alpha, scale=1/beta)\n",
    "\n",
    "# plot the pdf values as a line\n",
    "plt.plot(x, pdf_values, 'r-', label='PDF')\n",
    "\n",
    "plt.xlabel('Sample Values')\n",
    "plt.ylabel('Probability Density')\n",
    "plt.title('Probability Density Function of Gamma Distribution')\n",
    "plt.legend()\n",
    "plt.grid(True)\n",
    "plt.show()"
   ]
  },
  {
   "cell_type": "markdown",
   "metadata": {},
   "source": [
    "4\\. Overlay the probability density function on the histogram and compare these in a few words. Save the resulting picture in `.png` format.\n",
    "> Hint: \n",
    "> - take a look at the `scipy` [documentation](https://docs.scipy.org/doc/scipy/reference/stats.html) to avoid implementing the pdf from scratch;\n",
    "> - return the bins in which the histogram is computed, and evaluate the pdf on those points."
   ]
  },
  {
   "cell_type": "markdown",
   "metadata": {},
   "source": []
  },
  {
   "cell_type": "markdown",
   "metadata": {},
   "source": [
    "Your answers(s)"
   ]
  },
  {
   "cell_type": "code",
   "execution_count": 27,
   "metadata": {},
   "outputs": [
    {
     "data": {
      "image/png": "[encoded data removed]",
      "text/plain": [
       "<Figure size 640x480 with 1 Axes>"
      ]
     },
     "metadata": {},
     "output_type": "display_data"
    }
   ],
   "source": [
    "# create the histogram\n",
    "hist, bins, _ = plt.hist(samples, bins=30, density=True, alpha=0.5, color='b', label='Histogram')\n",
    "\n",
    "# get the pdf for the Gamma distribution with the same parameters as the generated samples\n",
    "pdf_values = gamma.pdf(bins, alpha, scale=1/beta)\n",
    "\n",
    "# plot the histogram\n",
    "plt.xlabel('Sample Values')\n",
    "plt.ylabel('Probability Density')\n",
    "plt.title('Histogram and Probability Density Function of Gamma Distribution')\n",
    "\n",
    "# overlay the pdf on the histogram\n",
    "plt.plot(bins, pdf_values, 'r', label='PDF')\n",
    "\n",
    "# plot legend\n",
    "plt.legend()\n",
    "\n",
    "# save the resulting picture in .png format\n",
    "plt.savefig('img\\histogram_with_pdf_gamma_dstr.png')\n",
    "\n",
    "# show the plot\n",
    "plt.grid(True)\n",
    "plt.show()\n"
   ]
  },
  {
   "cell_type": "code",
   "execution_count": null,
   "metadata": {},
   "outputs": [],
   "source": [
    "'''\n",
    "Observations:\n",
    "\n",
    "In the chart above, we can see the histogram made with the actual observations of the gamma distribution. On top of it, the probability density function\n",
    "adjusts pretty well to the distribution of the data.\n",
    "\n",
    "This function help us understanding how likely is for each value of the distribution to happen in a continuous range of values.\n",
    "\n",
    "\n",
    "'''"
   ]
  },
  {
   "cell_type": "markdown",
   "metadata": {},
   "source": [
    "---\n",
    "## <a name=\"ex2\">Exercise 2: Basic statistics with `pandas`</a> [(&#8593;)](#content)\n",
    "\n",
    "In this second exercise, we focus on computing basic statistics, and applying linear regression to a small data set. These data are gathered in the following table, which gives the infant mortality (`X`) and the gross national product per inhabitant (`Y`) of 12 european countries :\n",
    "\n",
    "| `X` | 190 | 128 | 180 | 212 | 56 | 192 | 68 | 98 | 110 | 197 | 181 | 233 |\n",
    "|-----|-----|-----|-----|----|-----|----|----|-----|-----|-----|-----|-----|\n",
    "| `Y` |  24 |  28 |  24 | 19 |  37 | 22 | 34 |  25 |  36 |  24 |  20 |  18 |\n",
    "\n",
    "1\\. For `X `and `Y`, compute the median, mean, variance and standard deviation. The data points have already been entered into a `.csv` file stored in `data/data.csv`.\n",
    "> Hint: \n",
    "> - you can directly use `pandas` to load the data into a `DataFrame` ([`pd.read_csv`](https://pandas.pydata.org/docs/reference/frame.html));\n",
    "> - take a look at the built-in operations available for `DataFrame` objects ([documentation](https://pandas.pydata.org/docs/reference/frame.html));\n",
    "> - to display a `DataFrame` `f`:\n",
    "> ```python \n",
    "> from IPython.display import display\n",
    "> display(df)\n",
    "> ```\n",
    "> - sort the `DataFrame` with respect to the value of `X` (see [here](https://pandas.pydata.org/docs/reference/api/pandas.DataFrame.sort_values.html#pandas.DataFrame.sort_values)) This will be useful for question 3."
   ]
  },
  {
   "cell_type": "markdown",
   "metadata": {},
   "source": [
    "Your answers(s)"
   ]
  },
  {
   "cell_type": "code",
   "execution_count": 19,
   "metadata": {},
   "outputs": [],
   "source": [
    "import pandas as pd"
   ]
  },
  {
   "cell_type": "code",
   "execution_count": 25,
   "metadata": {},
   "outputs": [],
   "source": [
    "gross_national_product=pd.read_csv('data\\data.csv')"
   ]
  },
  {
   "cell_type": "markdown",
   "metadata": {},
   "source": [
    "2\\. Give the equation of the regression line of `Y` as a function of `X`.\n",
    "> Hint: \n",
    "> - take a look at the functionalities available in `numpy` (e.g., `np.polyfit` and `np.polyval`);\n",
    "> - if needed, note that you can retrieve the data from the resulting `pandas` `DataFrame` with the `to_numpy()` method."
   ]
  },
  {
   "cell_type": "markdown",
   "metadata": {},
   "source": [
    "Your answers(s)"
   ]
  },
  {
   "cell_type": "code",
   "execution_count": 31,
   "metadata": {},
   "outputs": [],
   "source": [
    "X=gross_national_product['X'].to_numpy()\n",
    "y=gross_national_product['Y'].to_numpy()"
   ]
  },
  {
   "cell_type": "code",
   "execution_count": 35,
   "metadata": {},
   "outputs": [],
   "source": [
    "# fit model with dependent and independent variables, using numpy. Linear regression (deg=1)\n",
    "model=np.polyfit(x=X,y=y,deg=1)\n",
    "\n",
    "#take model parameters to predict\n",
    "predict=np.poly1d(model)\n",
    "\n",
    "# make predictions and add to original dataframe\n",
    "gross_national_product['Y_hat']=predict(X)"
   ]
  },
  {
   "cell_type": "markdown",
   "metadata": {},
   "source": [
    "3\\. Display the cloud of points and the regression line $Y = f(X)$ on the same figure. Save the figure in `.png` format."
   ]
  },
  {
   "cell_type": "markdown",
   "metadata": {},
   "source": [
    "Your answers(s)"
   ]
  },
  {
   "cell_type": "code",
   "execution_count": 52,
   "metadata": {},
   "outputs": [
    {
     "data": {
      "image/png": "[encoded data removed]",
      "text/plain": [
       "<Figure size 640x480 with 1 Axes>"
      ]
     },
     "metadata": {},
     "output_type": "display_data"
    }
   ],
   "source": [
    "# Plot Y\n",
    "plt.scatter(X, gross_national_product['Y'], label='Y', marker='o')\n",
    "\n",
    "# Plot Y hat\n",
    "plt.plot(X, gross_national_product['Y_hat'], label='Y_hat',color='y', marker='x', linestyle='-')\n",
    "\n",
    "# Add labels and title\n",
    "plt.xlabel('Infant mortality')\n",
    "plt.ylabel('Gross national product per inhabitant')\n",
    "plt.title('Observations vs. Linear Regression')\n",
    "\n",
    "# Add a legend\n",
    "plt.legend()\n",
    "\n",
    "# Show the plot\n",
    "plt.show()\n"
   ]
  },
  {
   "cell_type": "markdown",
   "metadata": {},
   "source": [
    "---\n",
    "## <a name=\"ex3\">Exercise 3: Discrete isotropic total variation</a> [(&#8593;)](#content)\n",
    "\n",
    "This exercise is devoted to the computation of the discrete isotropic total variation (TV) of an input matrix $\\mathbf{X} = [\\mathbf{x}_n]_{1 \\leq n \\leq N} \\in\\mathbb{C}^{M \\times N}$, which is particularly useful in Bayesian inference (e.g., for inverse problems) to promote piece-wise smooth solutions. The TV is defined as\n",
    "\n",
    "\\begin{equation*}\n",
    "    \\text{TV}(\\mathbf{X}) = \\Vert D(\\mathbf{X}) \\Vert_{1,2} = \\sum_{m=1}^M \\sum_{n=1}^N \\sqrt{[\\mathbf{XD}_h]^2_{m,n} + [\\mathbf{D}_v\\mathbf{X}]^2_{m,n}},\n",
    "\\end{equation*}\n",
    "\n",
    "where $[\\mathbf{Z}]_{m,n}$ denotes the elements in position $(m,n)$ of the matrix $\\mathbf{Z}$,\n",
    "\n",
    "\\begin{align*}\n",
    "    D(X) &= (\\mathbf{XD}_h, \\mathbf{D}_v\\mathbf{X}) \\in \\mathbb{C}^{M\\times N} \\times \\mathbb{C}^{M\\times N} \\\\\n",
    "    %\n",
    "    \\mathbf{XD}_h &= [\\mathbf{x}_2-\\mathbf{x}_1, \\dotsc, \\mathbf{x}_N-\\mathbf{x}_{N-1}, \\mathbf{0}_M] \\in \\mathbb{C}^{M\\times N} \\\\\n",
    "    %\n",
    "    \\mathbf{D}_v\\mathbf{X} &= [\\tilde{\\mathbf{x}}_2^T-\\tilde{\\mathbf{x}}^T_1, \\dotsc, \\tilde{\\mathbf{x}}^T_M-\\tilde{\\mathbf{x}}^T_{M-1}, \\mathbf{0}_N]^T \\in \\mathbb{C}^{M\\times N},\n",
    "\\end{align*}\n",
    "\n",
    "$\\mathbf{x}_n \\in \\mathbb{C}^{N}$ is the $n$-th column of $\\mathbf{X}$, and $\\tilde{\\mathbf{x}}_m \\in \\mathbb{C}^{1\\times M}$ is the $m$-th row of $\\mathbf{X}$. \n",
    "The linear operator $D: \\mathbb{C}^{M\\times N} \\rightarrow \\mathbb{C}^{M\\times N} \\times \\mathbb{C}^{M\\times N} $ is the discrete gradient operator. The adjoint of $D$, $D^*: \\mathbb{C}^{M\\times N} \\times \\mathbb{C}^{M\\times N} \\rightarrow \\mathbb{C}^{M\\times N}$, is given by\n",
    "\n",
    "\\begin{align*}\n",
    "    (\\forall \\mathbf{Y} = (\\mathbf{Y}_h,\\mathbf{Y}_v)), \\quad D^*(\\mathbf{Y}) &= \\mathbf{Y}_h\\mathbf{D}^*_h + \\mathbf{D}^*_v\\mathbf{Y}_v \\\\\n",
    "    %\n",
    "    \\mathbf{Y}_h\\mathbf{D}^*_h &= \\big[-\\mathbf{y}_{h,1},- [\\mathbf{y}_{h,n}-\\mathbf{y}_{h,n-1}]_{2 \\leq n \\leq N-1}, \\mathbf{y}_{h, N-1} \\big] \\\\\n",
    "    %\n",
    "    \\mathbf{D}^*_v\\mathbf{Y}_v &= \\big[-\\tilde{\\mathbf{y}}_{v,1}^T,- [\\tilde{\\mathbf{y}}_{v,m}^T-\\tilde{\\mathbf{y}}^T_{v,m-1}]_{2 \\leq m \\leq M-1}, \\tilde{\\mathbf{y}}^T_{v, M-1} \\big]^T\n",
    "\\end{align*}\n",
    "\n",
    "where $\\mathbf{y}_{h,n}$ is the $n$-th column of $\\mathbf{Y}_h$, and $\\tilde{\\mathbf{x}}_{v,m}$ is the $m$-th row of $\\mathbf{Y}_v$.\n",
    "\n",
    "1\\. Using `numpy`, implement a function `gradient2D` to compute the 2D discrete gradient operator $D$ applied to a matrix $\\mathbf{X}\\in\\mathbb{C}^{M \\times N}$ (no for loops!). Trigger an error message whenever the input array has more than 2 dimensions. If not clear from the implementation, add a few short comments to explain your code.\n",
    "\n",
    "> Hint: \n",
    "> - to trigger an error, you can for instance use an `assert` statement, or raise an [exception (e.g., `AssertionError`)](https://docs.python.org/3/library/exceptions.html);\n",
    "> - only a few operations are needed: computing vertical differences, horizontal differences, and possibly a concatenation of matrices into a single tensor (= n-dimensional array);\n",
    "> - possibly useful functions: `np.diff`, `np.c_`, `np.r_` (or `np.concatenate`). "
   ]
  },
  {
   "cell_type": "markdown",
   "metadata": {},
   "source": [
    "Your answers(s)"
   ]
  },
  {
   "cell_type": "code",
   "execution_count": 3,
   "metadata": {},
   "outputs": [],
   "source": [
    "def gradient2D(X):\n",
    "    \"\"\"\n",
    "    Compute the 2D discrete gradient operator D applied to a matrix X.\n",
    "\n",
    "    Parameters:\n",
    "    - X: numpy array, input matrix of shape (M, N).\n",
    "\n",
    "    Returns:\n",
    "    - D_X: tuple of two numpy arrays, (D_h(X), D_v(X)).\n",
    "    \"\"\"\n",
    "\n",
    "    # Check if the input array has more than 2 dimensions\n",
    "    assert X.ndim <= 2, \"Input array should have at most 2 dimensions.\"\n",
    "\n",
    "    # Compute horizontal gradient D_h(X)\n",
    "    if X.ndim == 1:\n",
    "        D_h_X = np.diff(X)\n",
    "    else:\n",
    "        D_h_X = np.diff(X, axis=1)\n",
    "    \n",
    "    # Compute vertical gradient D_v(X)\n",
    "    if X.ndim == 1:\n",
    "        D_v_X = np.diff(X, axis=0)\n",
    "    else:\n",
    "        D_v_X = np.diff(X, axis=0)\n",
    "\n",
    "    # Return the tuple (D_h(X), D_v(X))\n",
    "    return D_h_X, D_v_X\n",
    "\n",
    "\n",
    "# Example usage:\n",
    "M, N = 3, 4\n",
    "X = np.random.rand(M, N)\n",
    "D_h_X, D_v_X = gradient2D(X)"
   ]
  },
  {
   "cell_type": "markdown",
   "metadata": {},
   "source": [
    "2\\. Implement a unit-test to validate the behaviour of the `gradient2D` function. For instance, you can check the format of the output, and test the result when the functioni s evaluated on a constant matrix (for both a square and a non-square input matrix). Run the unit-test from the present Jupyter notebook."
   ]
  },
  {
   "cell_type": "markdown",
   "metadata": {},
   "source": [
    "Your answers(s)"
   ]
  },
  {
   "cell_type": "code",
   "execution_count": 4,
   "metadata": {},
   "outputs": [
    {
     "name": "stderr",
     "output_type": "stream",
     "text": [
      "test_constant_matrix (__main__.TestGradient2D.test_constant_matrix) ... ok\n",
      "test_output_format (__main__.TestGradient2D.test_output_format) ... ok\n",
      "\n",
      "----------------------------------------------------------------------\n",
      "Ran 2 tests in 0.004s\n",
      "\n",
      "OK\n"
     ]
    },
    {
     "data": {
      "text/plain": [
       "<unittest.runner.TextTestResult run=2 errors=0 failures=0>"
      ]
     },
     "execution_count": 4,
     "metadata": {},
     "output_type": "execute_result"
    }
   ],
   "source": [
    "class TestGradient2D(unittest.TestCase):\n",
    "    def test_output_format(self):\n",
    "        # test the format of the output (tuple of two numpy arrays)\n",
    "        M, N = 3, 4\n",
    "        X = np.random.rand(M, N)\n",
    "        D_h_X, D_v_X = gradient2D(X)\n",
    "        self.assertIsInstance(D_h_X, np.ndarray)\n",
    "        self.assertIsInstance(D_v_X, np.ndarray)\n",
    "        self.assertEqual(D_h_X.shape, (M, N - 1))  # check the shape of horizontal gradient\n",
    "        self.assertEqual(D_v_X.shape, (M - 1, N))  # check the shape of vertical gradient\n",
    "\n",
    "    def test_constant_matrix(self):\n",
    "        # test the result when the function is evaluated on a constant matrix\n",
    "        M, N = 3, 3\n",
    "        constant_value = 5.0\n",
    "        X = np.full((M, N), constant_value)\n",
    "        D_h_X, D_v_X = gradient2D(X)\n",
    "        expected_h_gradient = np.zeros((M, N - 1))\n",
    "        expected_v_gradient = np.zeros((M - 1, N))\n",
    "        np.testing.assert_array_almost_equal(D_h_X, expected_h_gradient)\n",
    "        np.testing.assert_array_almost_equal(D_v_X, expected_v_gradient)\n",
    "\n",
    "# create a test suite and run the tests\n",
    "suite = unittest.TestLoader().loadTestsFromTestCase(TestGradient2D)\n",
    "unittest.TextTestRunner(verbosity=2).run(suite)\n"
   ]
  },
  {
   "cell_type": "markdown",
   "metadata": {},
   "source": [
    "3\\. Document the function `gradient2D` with an appropriate docstring (see session 1)."
   ]
  },
  {
   "cell_type": "markdown",
   "metadata": {},
   "source": [
    "Your answers(s)"
   ]
  },
  {
   "cell_type": "code",
   "execution_count": 5,
   "metadata": {},
   "outputs": [],
   "source": [
    "def gradient2D(X):\n",
    "    \"\"\"\n",
    "    Compute the 2D discrete gradient operator D applied to a matrix X.\n",
    "\n",
    "    The discrete gradient operator D calculates both horizontal (D_h) and vertical (D_v) gradients of a 2D matrix X.\n",
    "\n",
    "    Parameters:\n",
    "    - X: numpy array, input matrix of shape (M, N).\n",
    "\n",
    "    Returns:\n",
    "    - D_X: tuple of two numpy arrays, (D_h(X), D_v(X)).\n",
    "    \n",
    "    - D_h(X): numpy array of shape (M, N-1), representing the horizontal gradient.\n",
    "    - D_v(X): numpy array of shape (M-1, N), representing the vertical gradient.\n",
    "\n",
    "    Example:\n",
    "    M, N = 3, 4\n",
    "    X = np.random.rand(M, N)\n",
    "    D_h_X, D_v_X = gradient2D(X)\n",
    "    \"\"\"\n",
    "    # check if the input array has more than 2 dimensions\n",
    "    assert X.ndim <= 2, \"Input array should have at most 2 dimensions.\"\n",
    "\n",
    "    # compute horizontal gradient D_h(X)\n",
    "    if X.ndim == 1:\n",
    "        D_h_X = np.diff(X)\n",
    "    else:\n",
    "        D_h_X = np.diff(X, axis=1)\n",
    "    \n",
    "    # compute vertical gradient D_v(X)\n",
    "    if X.ndim == 1:\n",
    "        D_v_X = np.diff(X, axis=0)\n",
    "    else:\n",
    "        D_v_X = np.diff(X, axis=0)\n",
    "\n",
    "    # return the tuple (D_h(X), D_v(X))\n",
    "    return D_h_X, D_v_X\n"
   ]
  },
  {
   "cell_type": "markdown",
   "metadata": {},
   "source": [
    "4\\. Using 1., define a function `tv` to compute $\\text{TV}(\\mathbf{X})$, $\\mathbf{X}\\in\\mathbb{C}^{M \\times N}$. Write a unit-test and document your function."
   ]
  },
  {
   "cell_type": "markdown",
   "metadata": {},
   "source": [
    "Your answers(s)"
   ]
  },
  {
   "cell_type": "code",
   "execution_count": 6,
   "metadata": {},
   "outputs": [
    {
     "name": "stderr",
     "output_type": "stream",
     "text": [
      ".\n",
      "----------------------------------------------------------------------\n",
      "Ran 1 test in 0.002s\n",
      "\n",
      "OK\n"
     ]
    },
    {
     "data": {
      "text/plain": [
       "<unittest.runner.TextTestResult run=1 errors=0 failures=0>"
      ]
     },
     "execution_count": 6,
     "metadata": {},
     "output_type": "execute_result"
    }
   ],
   "source": [
    "def tv(X):\n",
    "    \"\"\"\n",
    "    Compute the total variation (TV) of a 2D matrix X.\n",
    "\n",
    "    The TV is calculated as the sum of the magnitudes of the discrete horizontal and vertical gradients.\n",
    "\n",
    "    Parameters:\n",
    "    - X: numpy array, input matrix of shape (M, N).\n",
    "\n",
    "    Returns:\n",
    "    - tv_value: float, the total variation of X.\n",
    "\n",
    "    Example:\n",
    "    M, N = 3, 4\n",
    "    X = np.random.rand(M, N)\n",
    "    total_variation = tv(X)\n",
    "    \n",
    "    \"\"\"\n",
    "    # Calculate the discrete gradients\n",
    "    D_h_X, D_v_X = gradient2D(X)\n",
    "\n",
    "    # Compute the total variation (TV) as the sum of the magnitudes\n",
    "    tv_value = np.sum(np.abs(D_h_X)) + np.sum(np.abs(D_v_X))\n",
    "\n",
    "    return tv_value\n",
    "\n",
    "# Create a test suite and run the tests\n",
    "class TestTV(unittest.TestCase):\n",
    "    def test_tv_value(self):\n",
    "        # Test the computed TV value on a known matrix\n",
    "        X = np.array([[1, 2, 3],\n",
    "                    [4, 5, 6],\n",
    "                    [7, 8, 9]])\n",
    "        # Expected TV: |1-2| + |2-3| + |4-5| + |5-6| + |7-8| + |8-9| +\n",
    "        #              |1-4| + |4-7| + |2-5| + |5-8| + |3-6| + |6-9| = 24\n",
    "        self.assertAlmostEqual(tv(X), 24.0, places=6)\n",
    "\n",
    "\n",
    "\n",
    "# Run the unit tests\n",
    "unittest.TextTestRunner().run(unittest.TestLoader().loadTestsFromTestCase(TestTV))\n"
   ]
  },
  {
   "cell_type": "markdown",
   "metadata": {},
   "source": [
    "5\\. Implement a function `gradient2D_adjoint` to compute $D^*(\\mathbf{Y})$, the adjoint of the 2D discrete gradient operator $D$ applied to $\\mathbf{Y}\\in\\mathbb{C}^{M \\times N}\\times \\mathbb{C}^{M \\times N}$. Add a few short comments to explain your code whenever appropriate."
   ]
  },
  {
   "cell_type": "markdown",
   "metadata": {},
   "source": [
    "Your answers(s)"
   ]
  },
  {
   "cell_type": "code",
   "execution_count": 7,
   "metadata": {},
   "outputs": [],
   "source": [
    "def gradient2D_adjoint(Y):\n",
    "    \n",
    "    \"\"\"\n",
    "    Compute the adjoint of the 2D discrete gradient operator D^*(Y).\n",
    "\n",
    "    The adjoint operator D^* calculates the adjoint of the discrete horizontal (D_h) and vertical (D_v) gradients\n",
    "    applied to Y.\n",
    "\n",
    "    Parameters:\n",
    "    - Y: tuple of two numpy arrays, (Y_h, Y_v).\n",
    "        - Y_h: numpy array of shape (M, N-1), representing the horizontal gradient.\n",
    "        - Y_v: numpy array of shape (M-1, N), representing the vertical gradient.\n",
    "\n",
    "    Returns:\n",
    "    - X: numpy array, the adjoint operator D^*(Y) applied to Y, of shape (M, N).\n",
    "\n",
    "    Example:\n",
    "    M, N = 3, 4\n",
    "    Y_h = np.random.rand(M, N-1)\n",
    "    Y_v = np.random.rand(M-1, N)\n",
    "    X = gradient2D_adjoint((Y_h, Y_v))\n",
    "    \"\"\"\n",
    "    # Unpack the horizontal and vertical gradients from the input tuple\n",
    "    Y_h, Y_v = Y\n",
    "\n",
    "    # Calculate the horizontal adjoint D_h^*(Y_h)\n",
    "    if Y_h.ndim == 1:\n",
    "        D_h_adj_Y_h = np.diff(np.pad(Y_h, ((0, 0), (0, 1))), axis=1)\n",
    "    else:\n",
    "        D_h_adj_Y_h = np.diff(np.pad(Y_h, ((0, 0), (0, 1))), axis=1)\n",
    "\n",
    "    # Calculate the vertical adjoint D_v^*(Y_v)\n",
    "    if Y_v.ndim == 1:\n",
    "        D_v_adj_Y_v = np.diff(np.pad(Y_v, ((0, 1), (0, 0))), axis=0)\n",
    "    else:\n",
    "        D_v_adj_Y_v = np.diff(np.pad(Y_v, ((0, 1), (0, 0))), axis=0)\n",
    "\n",
    "    # Combine the horizontal and vertical adjoints to get D^*(Y)\n",
    "    X = D_h_adj_Y_h + D_v_adj_Y_v\n",
    "\n",
    "    return X\n",
    "\n"
   ]
  },
  {
   "cell_type": "markdown",
   "metadata": {},
   "source": [
    "6\\. Implement a unit-test to validate `gradient2D_adjoint`, e.g., by checking the size of the output from the function and verifying that `gradient2D_adjoint` is adjoint to `gradient2D`, i.e., for any $\\mathbf{X}\\in\\mathbb{C}^{M \\times N}$ and $\\mathbf{Y}\\in\\mathbb{C}^{M \\times N}\\times \\mathbb{C}^{M \\times N}$:\n",
    "\n",
    "\\begin{equation}\n",
    "    \\forall \\mathbf{X} \\in \\mathbb{C}^{M \\times N}, \\mathbf{Y} = (\\mathbf{Y}_h, \\mathbf{Y}_v) \\in \\mathbb{C}^{M \\times N} \\times \\mathbb{C}^{M \\times N}, \\;\n",
    "    %\n",
    "    \\langle D(\\mathbf{X}), \\mathbf{Y} \\rangle_{\\mathbb{C}^{M \\times N} \\times \\mathbb{C}^{M \\times N}} = \\langle \\mathbf{X}, D^*(\\mathbf{Y}) \\rangle_{\\mathbb{C}^{M \\times N}}, \n",
    "\\end{equation}\n",
    "\n",
    "where \n",
    "\n",
    "\\begin{align}\n",
    "    &\\forall \\mathbf{U}, \\mathbf{V} \\in \\mathbb{C}^{M \\times N}, \\; \\langle \\mathbf{U}, \\mathbf{V} \\rangle_{\\mathbb{C}^{M \\times N}} = \\text{Tr}(\\mathbf{U}^H \\mathbf{V}) = \\sum_{m=1}^M \\sum_{n=1}^N u_{m,n}^* v_{m,n}, \\\\\n",
    "    &\\forall \\mathbf{U} = (\\mathbf{U}_h, \\mathbf{U}_v), \\mathbf{V} = (\\mathbf{V}_h, \\mathbf{V}_v) \\in \\mathbb{C}^{M \\times N} \\times \\mathbb{C}^{M \\times N}, \\; \\langle \\mathbf{U}, \\mathbf{V} \\rangle_{\\mathbb{C}^{M \\times N} \\times \\mathbb{C}^{M \\times N}} = \\langle \\mathbf{U}_h, \\mathbf{V}_h \\rangle_{\\mathbb{C}^{M \\times N}} + \\langle \\mathbf{U}_v, \\mathbf{V}_v \\rangle_{\\mathbb{C}^{M \\times N}}.\n",
    "\\end{align}\n",
    "\n",
    "> Hint: to verify `gradient2D_adjoint` is the adjoint of `gradient2D`, evaluate the scalar products above for randomly drawn matrices. Set the random generator to a known state for reproducibility (see [Exercise 1](#ex1))."
   ]
  },
  {
   "cell_type": "markdown",
   "metadata": {},
   "source": [
    "Your answers(s)"
   ]
  },
  {
   "cell_type": "code",
   "execution_count": null,
   "metadata": {},
   "outputs": [],
   "source": [
    "class TestAdjoint(unittest.TestCase):\n",
    "    def setUp(self):\n",
    "        # Set the random seed for reproducibility\n",
    "        np.random.seed(0)\n",
    "    \n",
    "    def test_adjoint_property(self):\n",
    "        # Generate a random matrix X\n",
    "        M, N = 3, 4\n",
    "        X = np.random.rand(M, N)\n",
    "        \n",
    "        # Generate random horizontal gradient Y_h\n",
    "        Y_h = np.random.rand(M, N-1)\n",
    "        \n",
    "        # Calculate the scalar product <D_h(X), Y_h> using gradient2D\n",
    "        DX_h = gradient2D(X)\n",
    "        \n",
    "        # Calculate the scalar product <X, D*_h(Y_h)> using gradient2D_adjoint for horizontal gradient\n",
    "        DY_h = gradient2D_adjoint((Y_h,))\n",
    "        \n",
    "        # Calculate the scalar product <D_h(X), Y_h> and <X, D*_h(Y_h)>\n",
    "        scalar_product_1_h = np.sum(np.conj(DX_h) * Y_h)\n",
    "        scalar_product_2_h = np.sum(X * np.conj(DY_h[0]))  # Access the first element of the tuple\n",
    "        \n",
    "        # Check if the scalar products are equal\n",
    "        self.assertAlmostEqual(scalar_product_1_h, scalar_product_2_h, places=6)\n",
    "\n",
    "# Create a test suite\n",
    "test_suite = unittest.TestLoader().loadTestsFromTestCase(TestAdjoint)\n",
    "\n",
    "# Create a test runner and run the tests\n",
    "test_runner = unittest.TextTestRunner()\n",
    "test_runner.run(test_suite)\n"
   ]
  },
  {
   "cell_type": "markdown",
   "metadata": {},
   "source": [
    "[Bonus, **optional**]. Generalize the `gradient2D` to any number of dimensions ($\\mathbf{X} \\in \\mathbb{C}^{N_1 \\times N_2 \\times \\dotsc \\times N_p}$), i.e., by returning tensors obtained by computing differences along each of its dimensions.\n",
    "> Hint: \n",
    "> - you may use a loops here, and/or list comprehension. Using slice objects (see [np.s_](https://numpy.org/doc/stable/reference/generated/numpy.s_.html?highlight=s_#numpy.s_) and [this page](https://stackoverflow.com/questions/24432209/python-index-an-array-using-the-colon-operator-in-an-arbitrary-dimension)) can be an interesting option.\n",
    ">\n",
    "> - the definition of the scalar product above can be extended to the case of tensors as follows:\n",
    "> \\begin{equation}\n",
    "    \\mathbf{U}, \\mathbf{V} \\in \\mathbb{C}^{N_1 \\times N_2 \\times \\dotsc \\times N_p}, \\; \\langle \\mathbf{U}, \\mathbf{V} \\rangle_{\\mathbb{C}^{N_1 \\times N_2 \\times \\dotsc \\times N_p}} =  \\sum_{n_1 = 1}^{N_1}  \\sum_{n_2 = 1}^{N_2} \\dotsc \\sum_{n_p = 1}^{N_p} u_{n_1, n_2, \\dotsc, n_p}^* v_{n_1, n_2, \\dotsc, n_p}   \n",
    "\\end{equation}"
   ]
  },
  {
   "cell_type": "markdown",
   "metadata": {},
   "source": [
    "Your answers(s)"
   ]
  },
  {
   "cell_type": "markdown",
   "metadata": {},
   "source": [
    "## Reference\n",
    "\n",
    "```bibtex\n",
    "@article{condat:hal-01309685,\n",
    "  TITLE = {{Discrete Total Variation: New Definition and Minimization}},\n",
    "  AUTHOR = {Condat, Laurent},\n",
    "  URL = {https://hal.archives-ouvertes.fr/hal-01309685},\n",
    "  JOURNAL = {{SIAM Journal on Imaging Sciences}},\n",
    "  PUBLISHER = {{Society for Industrial and Applied Mathematics}},\n",
    "  VOLUME = {10},\n",
    "  NUMBER = {3},\n",
    "  PAGES = {1258--1290},\n",
    "  YEAR = {2017},\n",
    "  MONTH = Aug,\n",
    "  DOI = {10.1137/16M1075247},\n",
    "  KEYWORDS = { variational image processing ; total variation ;  finite-difference schemes ;  coarea formula},\n",
    "  PDF = {https://hal.archives-ouvertes.fr/hal-01309685v3/file/Condat-newTV.pdf},\n",
    "  HAL_ID = {hal-01309685},\n",
    "  HAL_VERSION = {v3},\n",
    "}\n",
    "```\n"
   ]
  },
  {
   "cell_type": "markdown",
   "metadata": {},
   "source": []
  }
 ],
 "metadata": {
  "kernelspec": {
   "display_name": "Python 3.9.13 ('python-g3')",
   "language": "python",
   "name": "python3"
  },
  "language_info": {
   "codemirror_mode": {
    "name": "ipython",
    "version": 3
   },
   "file_extension": ".py",
   "mimetype": "text/x-python",
   "name": "python",
   "nbconvert_exporter": "python",
   "pygments_lexer": "ipython3",
   "version": "3.11.3"
  },
  "vscode": {
   "interpreter": {
    "hash": "58ce234235271a992c6c1e3b99a6569700980df73fb4c638b79441455019e58f"
   }
  }
 },
 "nbformat": 4,
 "nbformat_minor": 4
}
